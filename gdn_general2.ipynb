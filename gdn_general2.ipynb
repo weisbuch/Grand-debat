{
 "cells": [
  {
   "cell_type": "markdown",
   "metadata": {},
   "source": [
    "# Recherche des lemmes dans les réponses"
   ]
  },
  {
   "cell_type": "markdown",
   "metadata": {},
   "source": [
    " ## Illustration de l'analyse Boolénne du grand débat national "
   ]
  },
  {
   "cell_type": "markdown",
   "metadata": {},
   "source": [
    "## Importation des librairies "
   ]
  },
  {
   "cell_type": "code",
   "execution_count": 25,
   "metadata": {},
   "outputs": [],
   "source": [
    "# coding: utf-8\n",
    "import gensim\n",
    "import smart_open\n",
    "import numpy as np\n",
    "import string\n",
    "import pandas as pd"
   ]
  },
  {
   "cell_type": "markdown",
   "metadata": {},
   "source": [
    "### Choix du domaine et téléchargement du fichier csv\n",
    "\n",
    "De la ligne 1 à 9 on choisi l'un des quatre domaines:\n",
    "\n",
    "ORGANISATION_DE_LETAT_ET_DES_SERVICES_PUBLICS,   \n",
    "LA_TRANSITION_ECOLOGIQUE,    \n",
    "DEMOCRATIE_ET_CITOYENNETE,   \n",
    "LA_FISCALITE_ET_LES_DEPENSES_PUBLIQUES.\n",
    "\n",
    "De la ligne 10 à 14 on télécharge le fichier csv du domaine"
   ]
  },
  {
   "cell_type": "code",
   "execution_count": 26,
   "metadata": {},
   "outputs": [
    {
     "name": "stdout",
     "output_type": "stream",
     "text": [
      "repertoire? orga, transition, fiscal, ou demo : orga\n",
      "--2019-08-20 17:00:02--  http://opendata.auth-6f31f706db6f4a24b55f42a6a79c5086.storage.sbg5.cloud.ovh.net/2019-03-21/ORGANISATION_DE_LETAT_ET_DES_SERVICES_PUBLICS.csv\n",
      "Résolution de opendata.auth-6f31f706db6f4a24b55f42a6a79c5086.storage.sbg5.cloud.ovh.net (opendata.auth-6f31f706db6f4a24b55f42a6a79c5086.storage.sbg5.cloud.ovh.net)… 164.132.114.175\n",
      "Connexion à opendata.auth-6f31f706db6f4a24b55f42a6a79c5086.storage.sbg5.cloud.ovh.net (opendata.auth-6f31f706db6f4a24b55f42a6a79c5086.storage.sbg5.cloud.ovh.net)|164.132.114.175|:80… connecté.\n",
      "requête HTTP transmise, en attente de la réponse… 200 OK\n",
      "Taille : 218835248 (209M) [text/csv]\n",
      "Enregistre : «ORGANISATION_DE_LETAT_ET_DES_SERVICES_PUBLICS.csv.1»\n",
      "\n",
      "ORGANISATION_DE_LET 100%[===================>] 208,70M  41,8MB/s    ds 5,8s    \n",
      "\n",
      "2019-08-20 17:00:08 (36,2 MB/s) - «ORGANISATION_DE_LETAT_ET_DES_SERVICES_PUBLICS.csv.1» enregistré [218835248/218835248]\n",
      "\n",
      "Terminé — 2019-08-20 17:00:08 —\n",
      "Temps total effectif : 5,9s\n",
      "Téléchargés : 1 fichiers, 209M en 5,8s (36,2 MB/s)\n"
     ]
    }
   ],
   "source": [
    "domaine=input(\"repertoire? orga, transition, fiscal, ou demo : \")\n",
    "dicodom={}\n",
    "dicodom[\"orga\"]=\"ORGANISATION_DE_LETAT_ET_DES_SERVICES_PUBLICS\"\n",
    "dicodom[\"transition\"]=\"LA_TRANSITION_ECOLOGIQUE\"\n",
    "dicodom[\"demo\"]=\"DEMOCRATIE_ET_CITOYENNETE\"\n",
    "dicodom[\"fiscal\"]=\"LA_FISCALITE_ET_LES_DEPENSES_PUBLIQUES\"\n",
    "ficr=\"http://opendata.auth-6f31f706db6f4a24b55f42a6a79c5086.storage.sbg5.cloud.ovh.net/2019-03-21/\"\n",
    "ficr+=dicodom[domaine]+\".csv\"\n",
    "fichier_csv=dicodom[domaine]+\".csv\"\n",
    "ficsor=\"cherche\"\n",
    "ficanal=open(ficsor,\"w\")\n",
    "ficanal.write(ficr)\n",
    "ficanal.close()\n",
    "!wget -i cherche\n",
    "#print(\"Le temps de chargement peut être long\")\n",
    "data = pd.read_csv(fichier_csv, low_memory=False) # le fichier complet du domaine"
   ]
  },
  {
   "cell_type": "markdown",
   "metadata": {},
   "source": [
    "## Choix de la question\n",
    "\n",
    "On lit la liste des question en décommentant la deuxième ligne.\n",
    "\n",
    "Pour d'obscures raisons les numéros des questions partent de 11\n",
    "pour la première, puis 12 pour la seconde etc.\n",
    "\n",
    "Les lignes 7 à 11 permettent de choisir la question avec la possibilité d'annuler ce choix \n",
    "en cas d'erreur sur le numéro de la question en ne répondant pas oui à la question\n",
    "\"c'est bien la question qui vous intéresse ?\"\n",
    "\n",
    "Puis on met en forme la liste des réponses à la question choisie."
   ]
  },
  {
   "cell_type": "code",
   "execution_count": 27,
   "metadata": {},
   "outputs": [
    {
     "name": "stdout",
     "output_type": "stream",
     "text": [
      "Empty DataFrame\n",
      "Columns: [id, reference, title, createdAt, publishedAt, updatedAt, trashed, trashedStatus, authorId, authorType, authorZipCode, Q169 - Que pensez-vous de l'organisation de l'Etat et des administrations en France ? De quelle manière cette organisation devrait-elle évoluer ?, Q170 - Selon vous, l'Etat doit-il aujourd'hui transférer de nouvelles missions aux collectivités territoriales ?, Q171 - Si oui, lesquelles ?, Q204 - Estimez-vous avoir accès aux services publics dont vous avez besoin ?, Q172 - Si non, quels types de services publics vous manquent dans votre territoire et qu'il est nécessaire de renforcer ?, Q174 - Quels nouveaux services ou quelles démarches souhaitez-vous voir développées sur Internet en priorité ?, Q175 - Avez-vous déjà utilisé certaines de ces nouvelles formes de services publics ?, Q176 - Si oui, en avez-vous été satisfait ?, Q177 - Quelles améliorations préconiseriez-vous ?, Q178 - Quand vous pensez à l'évolution des services publics au cours des dernières années, quels sont ceux qui ont évolué de manière positive ?, Q179 - Quels sont les services publics qui doivent le plus évoluer selon vous ?, Q180 - Connaissez-vous le \"droit à l'erreur\", c'est-à-dire le droit d'affirmer votre bonne foi lorsque vous faites un erreur dans vos déclarations ?, Q181 - Si oui, avez-vous déjà utilisé ce droit à l'erreur ?, Q182 - Si oui, à quelle occasion en avez-vous fait usage ?, Q183 - Pouvez-vous identifier des règles que l'administration vous a déjà demandé d'appliquer et que vous avez jugées inutiles ou trop complexes ?, Q184 - Faut-il donner plus d'autonomie aux fonctionnaires de terrain ?, Q185 - Si oui, comment ?, Q186 - Faut-il revoir le fonctionnement et la formation de l'administration ?, Q187 - Si oui, comment ?, Q188 - Comment l'Etat et les collectivités territoriales peuvent-ils s'améliorer pour mieux répondre aux défis de nos territoires les plus en difficulté ?, Q191 - Si vous avez été amené à chercher une formation, pouvez-vous indiquer les éléments de satisfaction et/ou les difficultés rencontrés en précisant, pour chaque point, l'administration concernée :, Q192 - Si vous avez été amené à scolariser votre enfant, pouvez-vous indiquer les éléments de satisfaction et/ou les difficultés rencontrés en précisant, pour chaque point, l'administration concernée :, Q193 - Si vous avez été amené à chercher un emploi, pouvez-vous indiquer les éléments de satisfaction et/ou les difficultés rencontrés en précisant, pour chaque point, l'administration concernée :, Q194 - Si vous avez été amené à préparer votre retraite, pouvez-vous indiquer les éléments de satisfaction et/ou les difficultés rencontrés en précisant, pour chaque point, l'administration concernée :, Q195 - Si vous avez été amené à demander un remboursement de soins de santé, pouvez-vous indiquer les éléments de satisfaction et/ou les difficultés rencontrés en précisant, pour chaque point, l'administration concernée :, Q196 - Si vous avez été amené à faire une demande d'aide pour une situation de handicap, pouvez-vous indiquer les éléments de satisfaction et/ou les difficultés rencontrés en précisant, pour chaque point, l'administration concernée :, Q198 - Si vous avez été amené à créer une entreprise, pouvez-vous indiquer les éléments de satisfaction et/ou les difficultés rencontrés en précisant, pour chaque point, l'administration concernée :, Q199 - Si vous avez été amené à recruter du personnel, pouvez-vous indiquer les éléments de satisfaction et/ou les difficultés rencontrés en précisant, pour chaque point, l'administration concernée :, Q200 - Si vous avez été amené à former du personnel, pouvez-vous indiquer les éléments de satisfaction et/ou les difficultés rencontrés en précisant, pour chaque point, l'administration concernée :, Q201 - Si vous avez été amené à rémunérer du personnel, pouvez-vous indiquer les éléments de satisfaction et/ou les difficultés rencontrés en précisant, pour chaque point, l'administration concernée :, Q202 - Si vous avez été amené à mettre fin à votre activité, pouvez-vous indiquer les éléments de satisfaction et/ou les difficultés rencontrés en précisant, pour chaque point, l'administration concernée :, Q203 - Si vous avez été amené à recruter une personne portant un handicap, pouvez-vous indiquer les éléments de satisfaction et/ou les difficultés rencontrés en précisant, pour chaque point, l'administration concernée :, Q189 - Y a-t-il d'autres points sur l'organisation de l'Etat et des services publics sur lesquels vous souhaiteriez vous exprimer ?]\n",
      "Index: []\n",
      "\n",
      "[0 rows x 44 columns]\n",
      "numero de la question11\n",
      "Q169 - Que pensez-vous de l'organisation de l'Etat et des administrations en France ? De quelle manière cette organisation devrait-elle évoluer ?\n",
      "c'est bien la question qui vous intéresse ? (oui/non)oui\n",
      "nombre total de répondants =  51618\n",
      "domaine ORGANISATION_DE_LETAT_ET_DES_SERVICES_PUBLICS question   Q169 - Que pensez-vous de l'organisation de l'Etat et des administrations en France ? De quelle manière cette organisation devrait-elle évoluer ? 51618 11\n"
     ]
    }
   ],
   "source": [
    "q=data[0:0] # la ligne des questions\n",
    "print(q) # décommentez pour avoir la liste des questions\n",
    "# attention, pour d'obscures raisons les numéros des questions partent de 11\n",
    "#pour la première, puis 12 pour la seconde etc.\n",
    "liste=[] #initialise la liste des réponses\n",
    "n=0 # compter les réponses non vides\n",
    "ok=\"non\"\n",
    "while ok!=\"oui\":\n",
    "    nquestion=int(input(\"numero de la question\"))\n",
    "    print(data.columns[nquestion])\n",
    "    ok=input(\"c'est bien la question qui vous intéresse ? (oui/non)\")\n",
    "for line in data[data.columns[nquestion]]:\n",
    "    liste.append(line)\n",
    "print(\"nombre total de répondants = \",len(liste))\n",
    "long=len(liste)\n",
    "question=[]\n",
    "for i in q: \n",
    "    question.append(i)    \n",
    "print(\"domaine\", dicodom[domaine],\"question  \",question[nquestion],len(liste),nquestion) \n"
   ]
  },
  {
   "cell_type": "markdown",
   "metadata": {},
   "source": [
    "### Préparation de la liste des réponses"
   ]
  },
  {
   "cell_type": "code",
   "execution_count": 30,
   "metadata": {},
   "outputs": [
    {
     "name": "stdout",
     "output_type": "stream",
     "text": [
      "nb de réponses non vides 74962\n"
     ]
    }
   ],
   "source": [
    "ficsor=\"regard\"\n",
    "ficanal=open(ficsor,\"w\")\n",
    "fcw=ficanal.write # abbréviation\n",
    "fcw(dicodom[domaine]+\"\\n\")\n",
    "for i in range(1,long):\n",
    "    if str(liste[i]) !=\"nan\":\n",
    "        fcw(str(liste[i])) # le fichier de sortie regard est\n",
    "        fcw(\"\\n\")          # la liste des réponses\n",
    "        n+=1\n",
    "print(\"nb de réponses non vides\",n)\n",
    "ficanal.close()"
   ]
  },
  {
   "cell_type": "markdown",
   "metadata": {},
   "source": [
    "## Préfiltrage du fichier des réponses\n",
    "  On définit la fonction read_corpus qui lit chaque réponse (donc ligne par ligne) en isolant les mots, et supprime la ponctuation, change les majuscules en minuscules etc. puis on l'applique au fichier des réponses.\n",
    "  On obtient ainsi l'ensemble des réponses filtrées rep_fil."
   ]
  },
  {
   "cell_type": "code",
   "execution_count": 31,
   "metadata": {
    "scrolled": true
   },
   "outputs": [
    {
     "name": "stdout",
     "output_type": "stream",
     "text": [
      "83465\n"
     ]
    }
   ],
   "source": [
    "def read_corpus(fname, tokens_only=False):\n",
    "    with smart_open.smart_open(fname, encoding=\"utf-8\") as f:\n",
    "        for i, line in enumerate(f):\n",
    "            if tokens_only:\n",
    "                yield gensim.utils.simple_preprocess(line)\n",
    "            else:\n",
    "                # For training data, add tags\n",
    "                yield gensim.models.doc2vec.TaggedDocument(gensim.utils.simple_preprocess(line), [i])\n",
    "\n",
    "rep_fil = list(read_corpus('regard', tokens_only=True))\n",
    "print(len(rep_fil))"
   ]
  },
  {
   "cell_type": "markdown",
   "metadata": {},
   "source": [
    "## Lecture d'une partie des réponses pour choisir les lemmes"
   ]
  },
  {
   "cell_type": "code",
   "execution_count": 34,
   "metadata": {},
   "outputs": [
    {
     "name": "stdout",
     "output_type": "stream",
     "text": [
      "nombre de réponses à lire :  50\n",
      "Proposition de Refondation du Capitalisme et d'Instauration d'un Dividende Universel Financées par l'Épargne.\n",
      "\n",
      "En démocratie, le peuple souverain élit les représentants, compétents ou incompétents, qu’il mérite du fait de sa propre compétence ou incompétence.\n",
      "Sans les nommer, Macron a expliqué que les « gilets jaunes » qui, au départ, ne réclamaient que du pouvoir d’achat, se sont révoltés, entre autres, contre une « Mondialisation parfois incompréhensible » quand bien même ils ne le percevaient pas ainsi.\n",
      "En réalité, Macron et les « gilets jaunes » se réfèrent, sans le savoir, à l’iniquité intrinsèque du Capitalisme en matière de répartition des richesses, des profits. Quelle incompétente incompréhension ! ! !\n",
      "Tant que cette iniquité ne disparaîtra pas, il demeurera vain d’espérer une réelle croissance du pouvoir d’achat sauf à se livrer à des dépenses de plusieurs dizaines (?) de milliards d’Euros alourdissant la dette.\n",
      "Nombre de personnes croient que cette iniquité disparaîtrait avec la fin du Capitalisme.\n",
      "Je crois, au contraire, que le Capitalisme peut encore apporter le meilleur en offrant une clef de voûte socio-économique de laquelle découleraient toutes les réformes nécessaires ; sans douleur, pacifiquement :\n",
      "DE L'HUMANISME ABSOLU ET ULTRA CAPITALISTE.\n",
      "Au Revenu Universel (d'activité ?) financé par la Fiscalité, sans Refondation du Capitalisme\n",
      "on peut préférer le\n",
      "Dividende Universel financé par l’Épargne, avec Refondation du Capitalisme\n",
      "1)\n",
      "Refondation du Capitalisme & Instauration d'un Dividende Universel par l'Épargne.\n",
      "http://www.sincerites.org/article-le-dividende-universel-83909790.html\n",
      "2)\n",
      "En 20 ans, les Français(es) pourraient détenir 51 % du capital social des entreprises du CAC 40, banques incluses. http://www.sincerites.org/2017/05/en-20-ans-les-francais-es-pourraient-detenir-51-du-capital-social-des-entreprises-du-cac-40-banques-incluses.html\n",
      "3)\n",
      "Lettre ouverte à la Classe Ouvrière (et à tous ceux qui se sentent victimes du Capitalisme, du Libéralisme Économique, de la Mondialisation et de l'Union Européenne)\n",
      "http://www.sincerites.org/2017/04/lettre-ouverte-a-la-classe-ouvriere-et-a-tous-ceux-qui-se-sentent-victimes-du-capitalisme-du-liberalisme-economique-et-de-la-mondial\n",
      "4)\n",
      "Des peuples socio-économiquement incompétents ne peuvent élire qu’un personnel politique socio-économiquement incompétent.\n",
      "http://www.sincerites.org/2017/02/des-peuples-socio-economiquement-incompetents-ne-peuvent-elire-qu-un-personnel-politique-socio-economiquement-incompetent.html\n",
      "5)\n",
      "Pauvre peuple russe : Spolié en 1917 et en 1991 ! http://www.sincerites.org/2014/08/pauvre-peuple-russe-spolie-en-1917-et-en-1991.html \n",
      "\n",
      "Organisation territoriale\n",
      "- Fusion automatique des communes qui font partie de l'aire urbaine (continuum urbain) avec leur métropole de rattachement\n",
      "- Les communes périphériques (péri-urbaines) peuvent conserver leur maire, en tant que maire de métropole (sur le modèle des maires d'arrondissement de Paris-Lyon-Marseille; à ce sujet, Lille devrait passer à ce modèle d'arrondissements, en fusionnant les communes limitrophes (Lens, Villeneuve d'Asq, Roubaix...)\n",
      "- Le Président de la métropole ne peut pas provenir de la commune la plus peuplée (éviter la concentration au profit de la ville-centre)\n",
      "- Suppression du Département sur le territoire de la Métropole\n",
      "- Retour aux anciennes régions (sauf Normandie(s) et avec Nantes en Bretagne), qui ne sont qu'une instance de concertation entre Métropoles/Départements\n",
      " \n",
      "Etat:\n",
      "- Fusion ministères de l'Economie/Ecologie pour faire un grand ministère du Développement économique durable (Bercy continue à gérer le Budget)\n",
      "- Transformation du ministère de la Culture en ministère de la protection du patrimoine\n",
      "- Création d'un ministère de l'Aménagement du Territoire, chargé des transports et le logement. Renforcer la place de la Francophonie (dans affaires extérieures ?) et de l'économie de la mer (dans Outre-Mers ?). \n",
      "- Suppression de toutes les autorités/comités Théodule jugés inutiles par la Cour des Comptes / retour de leurs compétences aux ministères régaliens. A contrario, renforcer les dispositifs concernant la cybersécurité/régulation du numérique (Agence de régulation des réseaux ? fusion Conseil National du Numérique/ARCEP/CNIL/CSA/ANSSI/ARAFER/CRE...)\n",
      "- Transformation du Conseil économique, social et environnemental en \"Agora des citoyens\" (nom un peu pompeux, mais c'est l'idée), composée par des citoyens tirés au sort\n",
      "- Dans ce schéma, suppression du Sénat envisageable\n",
      " \n",
      "Vie publique\n",
      "- 1 mandat = 1 personne (fin des cumuls). 2 mandats maximum consécutifs. Inéligibilité à vie pour toute condamnation \n",
      "\n",
      "Sujet n°2 « Organisation de l’État et des collectivités publiques » :\n",
      "Suppression des Départements et réorganisation de la gestion territoriale\n",
      "Le coût de l’amélioration des conditions de vie de nos concitoyens dans le besoin doit s’accompagner de mesures d’économies sur le train de vie de l’État, afin de ne pas augmenter l’endettement du Pays ni l’imposition globale qui ont déjà atteint des limites intolérables. La principale mesure d’économie est probablement à trouver au niveau de l’organisation territoriale car l’échelon des Départements ne se justifie plus, si ce n’est en termes d’échelle pour des services gérés par ailleurs. La Région est sans conteste le premier niveau d’organisation du territoire en France ; les Communes ou les intercommunalités constituent l’échelon de proximité incontournable, surtout en espace rural ; les Métropoles sont devenues les principaux moteurs de l’activité socio-économique du Pays. \n",
      "Il est proposé :\n",
      "-\tDe supprimer les Départements en termes de structure politique et instance de gestion, et d’affecter leurs compétences et leurs moyens aux Régions, Métropoles et Communes.\n",
      "-\tCe faisant, de réaliser des économies et des réorientations dans les nouveaux budgets réaffectés au niveau des secteurs dépourvus de fléchage précis (ex : aides sociales, soutiens économiques…), en conservant ceux qui sont clairement affectés (ex : écoles, routes…) ; ainsi, sur le plan national une enveloppe pouvant atteindre environ 100 milliards € pourrait être soumise à réorientation et/ou économie, puis gérée par les instances retenues. \n",
      "\n",
      "Aller vers plus de transparence \n",
      "\n",
      "Nous sommes englués dans l'imposition de normes en tout genre. Que ce soit l'entreprise ou le citoyen dans sa vie quotidienne, avancer dans un projet quelqu'il soit (economique, construction, social...) signifie trouver des normes et obligations à chaque pas. C'est comme un jeu où la règle est de perdre des joueurs en chemin pour ne faire aboutir que les meilleurs, les plus résistants, soit ceux qui n'auront pas pu suivre économiquement le respect ou l'application des règles, soit ceux qui auront cédé sous le poids administratif de la complexité des obligations successives. Cette France là est comme une grosse mécanique où l'administration jetterai du sable dans les rouages a chaque fois que quelqu'un essaye de les graisser. Tout est ralenti. \n",
      "\n",
      "mettre fin aux avantages et petits arrangements entre \"amis\" : placer les anciens ministres, députés...y compris en créant des missions et des commandes de rapports qui ne servent qu'à leur donner un revenu confortable. Quand un maire est battu aux élections, il n'a pas un poste qui lui est proposé, les représentants des citoyens au plus haut niveau doivent être exemplaires, ils n'en seront que plus conscients de la réalitédes difficultés de la vie. \n",
      "\n",
      "Il y a trop d'échelons administratifs et d'agents de la fonction territoriale en France : il faudrait supprimer les départements, supprimer les cantons, transférer toutes les compétences des municipalités aux communautés.\n",
      "Il faut réformer le Sénat, à minima que les sénateurs soient élus au suffrage universel direct. \n",
      "\n",
      "PROPOSITION POUR LE GRAND DEBAT ..Contre le vote obligatoire ...Pour que tout vote se passe en semaine ,pris sur le temps de travail (ou pas ) bonne solution pour améliorer la participation.... Reconnaitre le vote blanc , instaurer une part de proportionnelle ( à définir ) ..Instaurer un vote parallèle consultatif, pour les 16-18 ans pour prendre en compte leurs avis et pour les initier à la citoyenneté ... \n",
      "\n",
      "Fusion obligatoire des communes afin de diviser leur nombre par deux. Suppression de l’échelon administratif et politique du département. Centralisation dans une ville unique de tout ce qui concerne la gestion administrative et politique des régions. Si ces trois mesures sont appliquées on obtient de très substantielles économie (beaucoup moins de fonctionnaires communaux et territoriaux, économie sur la gestion des bâtiments etc…) \n",
      "\n",
      "Moins de députés et de niveaux administratifs.\n",
      "pas plus d'une centaine de députés (1 par département par exemple) payés à la présence dans l\"hémicycle.  Pas de loi votée  valable sans la présence de la moitié des députés. \n",
      "Retraite des députés alignée sur celle des citoyens;\n",
      "Chômage du député payé à son ancien salaire maximum 2 ans avec les mêmes règles que les citoyens\n",
      "Diminution du nombre de sénateurs. \n",
      "\n",
      "Aller vers deux niveaux principaux d'administration : intercommunalité et région et deux niveaux secondaires, communes et départements \n",
      "\n",
      "Je propose : la suppression des départements , la suppression de pôle emploi et le remplacement par des structures privés beaucoup plus performantes. \n",
      "\n",
      "Il est anormal que l'école de la République soit incapable de répondre à sa mission pour un budget toujours plus élevé.\n",
      "\n",
      "C'est pourquoi, il faut instaurer un système scolaire unique avec pour chaque citoyen devant être scolarisé l'attribution d'une somme identique pour tous que ses parents (ou lui-même s'il est majeur) mettront à disposition d'un directeur qui en disposera comme il le souhaite pour faire fonctionner son établissement avec une totale liberté dans la fixation du programme et les méthodes pédagogiques dans le respect strict de la loi, notamment de la fraternité et de la laïcité.\n",
      "\n",
      "Aucune école ne pourra refuser un élève sur un autre critère que sa capacité d'accueil et ses résultats scolaires.\n",
      "\n",
      "Un examen annuel public aux résultats publics sanctionnera chaque année scolaire.  Cet examen s'assurera (et seulement) que les fondamentaux communs soient acquis par tous (lecture, écriture, calcul, une langue étrangère). Les directeurs ayant des scores insuffisants à cet examen devront se soumettre à des contrôles poussés afin de pouvoir continuer à exercer leur activité. \n",
      "\n",
      "Tous les fonctionnaires de l'éducation nationale devront être embauchés par l'un de ces établissements pour poursuivre leur mission éducative, le ministère n'étant en charge que de la bonne gestion de ce chèque et de l'examen national.\n",
      "\n",
      "Par souci d'égalité entre les élèves, il sera interdit pour quiconque de verser une somme supplémentaire à leur établissement (excepté les frais d'hébergement pour les pensions) mais chacun pourra abonder un fonds spécial qui augmentera mécaniquement pour tous le montant du chèque (avec défiscalisation). \n",
      "\n",
      "Certains services publics n'ont plus lieu d'être. Les compétences actuelles de l'office national des anciens combattants pourraient être transférer à différents services, voire déconcentrés. La carte du combattants au ministère de la défense, les différentes aides aux DDASS, le personnel enseignant détaché à l'éducation nationale, les autres personnels fonctionnaire dans le différentes administrations. \n",
      "\n",
      "Chaque échelon doit avoir ses compétences claires, étanches avec celles des autres échelons et financés par des ressources spécifiques identifiables par le contribuable \n",
      "\n",
      "L’organisation de l’état qui fut créé il y a plus de 200 ans n’est plus adaptée au monde actuel et les techniques de communication/gestion.\n",
      "Les tentatives de transformations ont généré un flou et des transformations en cours pas comprises.\n",
      "L’empilement actuel des  structures est : communes (# 36000), inter-communalités ,  communautés de communes ( ?) ,cantons, agglomérations, départements,  régions.\n",
      "« On dit » que les gens sont attachés à leur commune, département mais en fait ils sont attachés à des structures identifiées avec lesquelles ils  peuvent communiquer. L’usage des techniques de communications digitales  évoluent en permanence et  risquent de laisser une grande partie de la population sans pouvoir communiquer. \n",
      "Le principe de la transformation de  l’état proposé est à la fois très local dans la communication et global dans la gestion :\n",
      "-disparition des communes au profit de « communalités « (regroupement de communes pour atteindre une taille critique(processus en démarrage).Pour recréer un sentiment d’appartenance , les communalités  se rapprocheraient  le plus possible des anciennes entités géographiques( Pays d’Aix, Pays de Caux , Pays d’Auge ,…..)\n",
      "-renfort de la présence physique de « Conseillers Territoriaux  »   (payés par les « communalités  » ) afin d’aider et conseiller les habitants pour toutes les démarches administratives et aussi  résoudre des problèmes de vie courante tels que « gérer mon budget «  , « gérer ma future retraite » « gérer ma santé »,…… ainsi que remonter les  doléances …….\n",
      "\n",
      "Les «communalités » sont des mailles de gestions des affaires et projets.\n",
      "Les Conseillers Territoriaux sont des relais de communication entre les élus et le peuple.\n",
      "\n",
      "-Disparition des cantons dont les attributions sont reprises par les « communalités »\n",
      "\n",
      "-Création des « agglomérations  »   de «  communalités  »  à la place des départements (attributions à redéfinir)\n",
      "\n",
      "-Renfort du rôle des régions qui deviennent  l’exécutif  des politiques nationales. L’objectif est de rapprocher les attributions et responsabilités des régions de celles de landers  allemands ou canton suisses.Ils jouissent une grande autonomie dans le cadre des politiques nationales. Dans le principe de ma proposotion, les régions exécutent par délégation  tout ce qui concerne,éducation, santé, formation, support  aux populations, emploi développement territorial, environnement,… avec un degré d’adaptation.\n",
      "\n",
      "La région est  la seule dans son territoire à pouvoir emprunter de l’argent auprès soit de l’état soit banques (avec ou sans la caution  de l’état).\n",
      "La région collecte pour le compte de l’état , les taxes sur toutes les plus- values des transactions et en reverse  xx % à l’état central(taxes définies par la loi de finances votée à l’ assemblée).\n",
      "Par la constitution ( à modifier), la région (comme l’état) ne pourra augmenter son budget au-delà de l’inflation (régionale ?) qu’en obtenant     l’accord de la population (référendum)\n",
      "Cette réorganisation de la nation conduira au sentiment d’appartenance à un structure locale proche ainsi qu’à alléger  les structures de l’état central dont la mission principale est de définir les politiques nationales et les faire voter par le parlement.\n",
      "Le Conseil des Présidents des Régions devient un outil opérationnel de l’exécution des politiques , en particulier pour le développement des territoires .Son président doit avoir un rang de ministre et superviser la politique de  développement  des territoires.  \n",
      "   \n",
      "\n",
      "                          Budgets de l’état central, et régions\n",
      "\n",
      "Le principe est  les budgets (état central et régions) ne peut augmenter plus que l’inflation de l‘année antérieure sauf le faire voter par la population concernée.Ceci amènera  la population à s’intéresser aux budgets et avoir le sentiment d’y être associé.\n",
      "L’état et les régions privilégieront   l’emprunt auprès de la population .Ces emprunts pourront servir à la constitution d’un capital pour les retraites . \n",
      "\n",
      "Réduire le millefeuille administratif et baisser le nombre de fonctionnaires dans des collectivités. Obliger ces dernières à publier les chiffres de leur politique de recrutement et publier les résultats des enquêtes sur les coûts engendrés par la création de grandes régions. \n",
      "\n",
      "Baisse du mombre d’élue (député, sénateur) \n",
      "\n",
      "Service payant avec une participation modique \n",
      "\n",
      "Réduire le nombre de députés et sénateurs qui sont sur-payés et on a le sentiment qu'ils ne servent à rien. \n",
      "\n",
      "Des économies énormes : « Liquider » 90% de ce qui commence dans l’Etat par Agence, Agence d’Etat, Commission, Haute-Commission, Commissariat, Haut-Commissariat, Délégation, Fédération, Organisation, Pole, etc. \n",
      "\n"
     ]
    }
   ],
   "source": [
    "N=input(\"nombre de réponses à lire :  \" )\n",
    "for i in range(25,int(N)):\n",
    "        if str(liste[i]) !=\"nan\":\n",
    "            print(liste[i],\"\\n\")            "
   ]
  },
  {
   "cell_type": "markdown",
   "metadata": {},
   "source": [
    "## C'est à vous d'établir ici la liste des lemmes à tester à partir de la lecture d'une centaine de réponses.  \n",
    "\n",
    "liste_lemme est une liste de listes. Chaque lemme est une liste de mots équivalents. Attention à la syntaxe!"
   ]
  },
  {
   "cell_type": "code",
   "execution_count": 35,
   "metadata": {},
   "outputs": [],
   "source": [
    "liste_lemme=[]\n",
    "lla=liste_lemme.append # abbréviation\n",
    "#lla(['service','engagement','écoute']) \n",
    "#lla(['référendum','RIC','vote','votes']) \n",
    "#lla(['instruction','éducation','éducations','civique','économie','contribution','association','peuple','citoyen']) \n",
    "lla(['suppression','moins','mille-feuille','trop','baisser','réduire'])\n",
    "lla(['sénat','Sénat','sénateurs'])\n",
    "lla(['informatique','éducation','digital','école'])"
   ]
  },
  {
   "cell_type": "markdown",
   "metadata": {},
   "source": [
    "## L'analyse démarre ici.\n",
    "\n",
    "Les compteurs:\n",
    "\n",
    "ccompte: les réponses contenant au moins un lemme.\n",
    "\n",
    "c nombre de réponses contenant l'un des lemmes de 0 à 2\n",
    "\n",
    "count enregistre le nb de réponses en fonction des lemmes présents codés en décimal, de 0 à 7.\n",
    "\n",
    "\n",
    "Un code décimal est utilisé pour  l'indice j du vecteur count qui enregistre le nombre des réponses en fonction des lemmes présents. \n",
    " \n",
    " On code en décimal la présence (par le bit 1) ou l'absence (par le bit 0) de mots ou leurs équivalents (lemmes) dans une réponse. Le bit de gauche (MSB) code la présence du premier lemme, celui du milieu celle second et le troisième (LSB) celle du troisième lemme.\n",
    " \n",
    "| code binaire | 000 | 001 | 010 | 011 | 100 | 101 | 110 | 111 |\n",
    "|--------------|-----|-----|-----|-----|-----|-----|-----|-----| \n",
    "| code décimal |  0  |  1  |  2  |  3  |  4  |  5  |  6  |  7  | \n",
    "\n",
    "  Le code binaire 010 par exemple indique l'absence des lemmes n°1 et n°3 et la présence du lemme n°2\n",
    "  \n",
    "  Les labels sont les représentants du lemme (le premier mot).\n",
    " "
   ]
  },
  {
   "cell_type": "code",
   "execution_count": 36,
   "metadata": {
    "scrolled": true
   },
   "outputs": [
    {
     "name": "stdout",
     "output_type": "stream",
     "text": [
      "non reconnus  60385 \n",
      "\n",
      "suppression 18672 \n",
      "\n",
      "sénat 1337 \n",
      "\n",
      "suppression sénat 1240 \n",
      "\n",
      "informatique 1365 \n",
      "\n",
      "suppression informatique 433 \n",
      "\n",
      "sénat informatique 15 \n",
      "\n",
      "suppression sénat informatique 18 \n",
      "\n",
      "réponses reconnues 23080\n",
      "suppression 20363 sénat 2610 informatique 1831  \n",
      "suppression 88.2 % sénat 11.3 % informatique 7.9 % "
     ]
    }
   ],
   "source": [
    "c=[]\n",
    "for i in range(3):\n",
    "    c.append(0)\n",
    "z=0 #z est la représentation décimale\n",
    "count=np.zeros(50,'int32')\n",
    "for i in range(len(rep_fil)):\n",
    "    z=0\n",
    "    mul=1\n",
    "    k=-1\n",
    "    for lem in liste_lemme:\n",
    "        mul*=2\n",
    "        k+=1\n",
    "        for mot in lem:\n",
    "            if mot in rep_fil[i]:\n",
    "                z+=mul\n",
    "                c[k]+=1\n",
    "                break  \n",
    "    zz=z//2\n",
    "    count[zz]+=1\n",
    "# la boucle de comptage finit ici\n",
    "\n",
    "ccompte=0  # les réponses contenant au moins un lemme\n",
    "print(\"non reconnus \", end =\" \")\n",
    "liste=[]  \n",
    "labels=[]  # le premier mot du lemme servant de représentant\n",
    "for i in range(3):\n",
    "    labels.append(liste_lemme[i][0])\n",
    "for j in range(8):    \n",
    "    ccompte+=count[j+1] # total des réponses captatrices\n",
    "    liste.append(count[j+1])\n",
    "#   les if qui suivent correspondent à des OU \n",
    "    if j%2==1:\n",
    "        print(liste_lemme[0][0],end =\" \")\n",
    "    if j&2 > 0:\n",
    "        print(liste_lemme[1][0],end =\" \")\n",
    "    if j&4 > 0:\n",
    "        print(liste_lemme[2][0],end =\" \")\n",
    "#    if j&8:\n",
    "#        print(liste_lemme[3][0],end =\" \")\n",
    "    print(count[j],'\\n')\n",
    "print ('réponses reconnues',ccompte)\n",
    "for i in range(3):\n",
    "    print(liste_lemme[i][0],c[i],end =\" \")\n",
    "print(\" \")  \n",
    "for i in range(3):\n",
    "    print(liste_lemme[i][0],\"{0:.1f}\".format(100*c[i]/ccompte),'%',end =\" \")\n",
    "    \n",
    "    "
   ]
  },
  {
   "cell_type": "markdown",
   "metadata": {},
   "source": [
    "# Tracé du diagramme de Venn\n",
    "Le diagramme de Venn est la représentation graphique de ces résultats.\n",
    "La surface de chaque portion de cercle est proportionnelle au nombre de\n",
    "réponses  mentionnant les lemmes. Les trois cercles complets de couleur brique,\n",
    "verte et bleue  correspondent respectivement aux lemmes service, référendum et instruction.\n",
    "Les intersections aux couleurs composites correspondent aux réponses mixtes mentionnant deux ou trois lemmes. Les chiffres sont les nombres de réponses\n",
    "correspondantes."
   ]
  },
  {
   "cell_type": "code",
   "execution_count": 37,
   "metadata": {},
   "outputs": [
    {
     "data": {
      "image/png": "[encoded data removed]",
      "text/plain": [
       "<matplotlib.figure.Figure at 0x7f0b324badd8>"
      ]
     },
     "metadata": {},
     "output_type": "display_data"
    }
   ],
   "source": [
    "% matplotlib inline\n",
    "import matplotlib.pyplot as plt\n",
    "from matplotlib_venn import venn3\n",
    "# Makes the diagram\n",
    "venn3(subsets =liste,set_labels=labels)\n",
    "#plt.savefig('nom_de_figure.pdf') # choisissez ici le fichier de sauvegarde de la figure\n",
    "plt.show()"
   ]
  },
  {
   "cell_type": "code",
   "execution_count": null,
   "metadata": {},
   "outputs": [],
   "source": []
  }
 ],
 "metadata": {
  "kernelspec": {
   "display_name": "Python 3",
   "language": "python",
   "name": "python3"
  },
  "language_info": {
   "codemirror_mode": {
    "name": "ipython",
    "version": 3
   },
   "file_extension": ".py",
   "mimetype": "text/x-python",
   "name": "python",
   "nbconvert_exporter": "python",
   "pygments_lexer": "ipython3",
   "version": "3.6.4"
  }
 },
 "nbformat": 4,
 "nbformat_minor": 1
}
