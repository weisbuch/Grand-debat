{
 "cells": [
  {
   "cell_type": "markdown",
   "metadata": {},
   "source": [
    "# Démonstration de la recherche des lemmes dans les réponses"
   ]
  },
  {
   "cell_type": "markdown",
   "metadata": {},
   "source": [
    "Illustration de l'analyse Boolénne du grand débat national par le traitement de la question 33 du domaine Démocratie et Citoyenneté:\n",
    "\n",
    "### \"Que faudrait-il faire aujourd'hui pour renforcer l'engagement citoyen dans la société ?\""
   ]
  },
  {
   "cell_type": "markdown",
   "metadata": {},
   "source": [
    "## Importation des librairies "
   ]
  },
  {
   "cell_type": "code",
   "execution_count": 1,
   "metadata": {},
   "outputs": [],
   "source": [
    "# coding: utf-8\n",
    "import gensim\n",
    "import smart_open\n",
    "import numpy as np\n",
    "import string"
   ]
  },
  {
   "cell_type": "markdown",
   "metadata": {},
   "source": [
    "### Télécharger le fichier des réponses à la question  \n",
    "rep_demo33 (sous la forme raw, par exemple: wget https://raw.githubusercontent.com/weisbuch/Grand-debat/master/rep_demo33)"
   ]
  },
  {
   "cell_type": "markdown",
   "metadata": {},
   "source": [
    "## Préfiltrage du fichier des réponses\n",
    "  On définit la fonction read_corpus qui lit chaque réponse (donc ligne par ligne) en isolant les mots, et supprime la ponctuation, change les majuscules en minuscules etc. puis on l'applique au fichier des réponses.\n",
    "  On obtient ainsi l'ensemble des réponses filtrées rep_fil."
   ]
  },
  {
   "cell_type": "code",
   "execution_count": 2,
   "metadata": {},
   "outputs": [
    {
     "name": "stdout",
     "output_type": "stream",
     "text": [
      "72839\n"
     ]
    }
   ],
   "source": [
    "def read_corpus(fname, tokens_only=False):\n",
    "    with smart_open.smart_open(fname, encoding=\"utf-8\") as f:\n",
    "        for i, line in enumerate(f):\n",
    "            if tokens_only:\n",
    "                yield gensim.utils.simple_preprocess(line)\n",
    "            else:\n",
    "                # For training data, add tags\n",
    "                yield gensim.models.doc2vec.TaggedDocument(gensim.utils.simple_preprocess(line), [i])\n",
    "\n",
    "rep_fil = list(read_corpus('rep_demo33', tokens_only=True))\n",
    "print(len(rep_fil))"
   ]
  },
  {
   "cell_type": "markdown",
   "metadata": {},
   "source": [
    "### Testons les réponses filtrées en fonction de leur numéro\n",
    "en changeant éventuellemment les numéros des réponses à lire."
   ]
  },
  {
   "cell_type": "code",
   "execution_count": 3,
   "metadata": {
    "scrolled": true
   },
   "outputs": [
    {
     "data": {
      "text/plain": [
       "[['éducation'],\n",
       " ['que',\n",
       "  'chaque',\n",
       "  'citoyen',\n",
       "  'percevant',\n",
       "  'des',\n",
       "  'aides',\n",
       "  'de',\n",
       "  'état',\n",
       "  'puisse',\n",
       "  'durant',\n",
       "  'cette',\n",
       "  'période',\n",
       "  'participer',\n",
       "  'aux',\n",
       "  'travaux',\n",
       "  'de',\n",
       "  'sa',\n",
       "  'commune']]"
      ]
     },
     "execution_count": 3,
     "metadata": {},
     "output_type": "execute_result"
    }
   ],
   "source": [
    "rep_fil[22:24]"
   ]
  },
  {
   "cell_type": "markdown",
   "metadata": {},
   "source": [
    "### On établit ici la liste des lemmes à tester à partir de la lecture d'une centaine de réponses.  \n",
    "liste_lemme est une liste de listes. Attention à la syntaxe!"
   ]
  },
  {
   "cell_type": "code",
   "execution_count": 4,
   "metadata": {},
   "outputs": [],
   "source": [
    "liste_lemme=[]\n",
    "lla=liste_lemme.append\n",
    "lla(['service','engagement','écoute']) \n",
    "lla(['référendum','RIC','vote','votes']) \n",
    "lla(['instruction','éducation','éducations','civique','économie','contribution','association','peuple','citoyen']) "
   ]
  },
  {
   "cell_type": "markdown",
   "metadata": {},
   "source": [
    "# L'analyse démarre ici.\n",
    " On code en décimal la présence (par le bit 1) ou l'absence (par le bit 0) de mots ou leurs équivalents (lemmes) dans une réponse. Le bit de gauche (MSB) code la présence du premier lemme, celui du milieu celle second et le troisième (LSB) celle du troisième lemme.\n",
    " \n",
    "| code binaire | 000 | 001 | 010 | 011 | 100 | 101 | 110 | 111 |\n",
    "|--------------|-----|-----|-----|-----|-----|-----|-----|-----| \n",
    "| code décimal |  0  |  1  |  2  |  3  |  4  |  5  |  6  |  7  | \n",
    "Le code décimal est utilisé comme indice j du vecteur count qui enregistre le nombre des réponses en fonction des lemmes présents. \n",
    " "
   ]
  },
  {
   "cell_type": "code",
   "execution_count": 6,
   "metadata": {
    "scrolled": true
   },
   "outputs": [
    {
     "name": "stdout",
     "output_type": "stream",
     "text": [
      "non reconnus  41374 \n",
      "\n",
      "service 7354 \n",
      "\n",
      "référendum 3690 \n",
      "\n",
      "service référendum 246 \n",
      "\n",
      "instruction 9409 \n",
      "\n",
      "service instruction 9768 \n",
      "\n",
      "référendum instruction 578 \n",
      "\n",
      "service référendum instruction 420 \n",
      "\n",
      "réponses reconnues 31465\n",
      "service 17788 référendum 4934 instruction 20175  \n",
      "service 56.5 % référendum 15.7 % instruction 64.1 % "
     ]
    }
   ],
   "source": [
    "c=[]\n",
    "for i in range(3):\n",
    "    c.append(0)\n",
    "z=0 #z est la représentation décimale\n",
    "count=np.zeros(50,'int32')\n",
    "for i in range(len(rep_fil)):\n",
    "#for i in range(20)lla(['service','engagement','écoute'])\n",
    "    z=0\n",
    "    mul=1\n",
    "    k=-1\n",
    "    for lem in liste_lemme:\n",
    "        mul*=2\n",
    "        k+=1\n",
    "        for mot in lem:\n",
    "            if mot in rep_fil[i]:\n",
    "                z+=mul\n",
    "                c[k]+=1\n",
    "                break  \n",
    "    zz=z//2\n",
    "    count[zz]+=1\n",
    "# la boucle de comptage finit ici\n",
    "\n",
    "ccompte=0  # les réponses contenant au moins un lemme\n",
    "print(\"non reconnus \", end =\" \")\n",
    "liste=[]  \n",
    "labels=[]  # le premier mot du lemme servant de caractéristique\n",
    "for i in range(3):\n",
    "    labels.append(liste_lemme[i][0])\n",
    "for j in range(8):    \n",
    "    ccompte+=count[j+1] # total des réponses captatrices\n",
    "    liste.append(count[j+1])\n",
    "#    print(j-1,count[j-1],'\\n')\n",
    "    if j%2==1:\n",
    "        print(liste_lemme[0][0],end =\" \")\n",
    "    if j&2 > 0:\n",
    "        print(liste_lemme[1][0],end =\" \")\n",
    "    if j&4 > 0:\n",
    "        print(liste_lemme[2][0],end =\" \")\n",
    "#    if j&8:\n",
    "#        print(liste_lemme[3][0],end =\" \")\n",
    "    print(count[j],'\\n')\n",
    "print ('réponses reconnues',ccompte)\n",
    "for i in range(3):\n",
    "    print(liste_lemme[i][0],c[i],end =\" \")\n",
    "print(\" \")  \n",
    "for i in range(3):\n",
    "    print(liste_lemme[i][0],\"{0:.1f}\".format(100*c[i]/ccompte),'%',end =\" \")\n",
    "    \n",
    "    "
   ]
  },
  {
   "cell_type": "markdown",
   "metadata": {},
   "source": [
    "# Tracé du diagramme de Venn\n",
    "Le diagramme de Venn est la représentation graphique de ces résultats.\n",
    "La surface de chaque portion de cercle est proportionnelle au nombre de\n",
    "réponses  mentionnant les lemmes. Les trois cercles complets de couleur brique,\n",
    "verte et bleue  correspondent respectivement aux lemmes service, référendum et instruction.\n",
    "Les intersections aux couleurs composites correspondent aux réponses mixtes mentionnant deux ou trois lemmes. Les chiffres sont les nombres de réponses\n",
    "correspondantes."
   ]
  },
  {
   "cell_type": "code",
   "execution_count": 7,
   "metadata": {},
   "outputs": [
    {
     "data": {
      "image/png": "[encoded data removed]",
      "text/plain": [
       "<matplotlib.figure.Figure at 0x7f026afc4fd0>"
      ]
     },
     "metadata": {},
     "output_type": "display_data"
    }
   ],
   "source": [
    "% matplotlib inline\n",
    "import matplotlib.pyplot as plt\n",
    "from matplotlib_venn import venn3\n",
    "# Make the diagram\n",
    "venn3(subsets =liste,set_labels=labels)\n",
    "#plt.savefig('figure-demo27-sans.pdf')\n",
    "plt.show()"
   ]
  },
  {
   "cell_type": "code",
   "execution_count": null,
   "metadata": {},
   "outputs": [],
   "source": []
  }
 ],
 "metadata": {
  "kernelspec": {
   "display_name": "Python 3",
   "language": "python",
   "name": "python3"
  },
  "language_info": {
   "codemirror_mode": {
    "name": "ipython",
    "version": 3
   },
   "file_extension": ".py",
   "mimetype": "text/x-python",
   "name": "python",
   "nbconvert_exporter": "python",
   "pygments_lexer": "ipython3",
   "version": "3.6.4"
  }
 },
 "nbformat": 4,
 "nbformat_minor": 1
}
